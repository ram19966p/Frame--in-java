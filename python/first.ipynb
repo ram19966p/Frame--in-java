{
 "cells": [
  {
   "cell_type": "code",
   "execution_count": null,
   "metadata": {},
   "outputs": [],
   "source": [
    "a=int(input(\"enter you age:\"))\n",
    "if a>=18:\n",
    "    print(\"you are elegible for the vote :\")\n",
    "print(\"End program:\")\n"
   ]
  },
  {
   "cell_type": "code",
   "execution_count": null,
   "metadata": {},
   "outputs": [],
   "source": [
    "a=int(input(\"enter the number for addition :\"))\n",
    "b=int(input(\"enter the number for addition :\"))\n",
    "print(a+b)"
   ]
  },
  {
   "cell_type": "code",
   "execution_count": null,
   "metadata": {},
   "outputs": [],
   "source": [
    "s=input(\"enter your name:\")\n",
    "v=int(input(\"enter your age:\"))\n",
    "print(s,v)\n",
    "if v>=18:\n",
    "    print(\"you are elegible for the vote :\")\n",
    "print(\"End program:\")"
   ]
  },
  {
   "cell_type": "code",
   "execution_count": null,
   "metadata": {},
   "outputs": [],
   "source": [
    "a=int(input(\"enter you age:\"))\n",
    "if a>91 and a<100:\n",
    "    print(\"o\")\n",
    "elif(a>81 and a<90):\n",
    "    print(\"A\")\n",
    "elif(a>71 and a<80):\n",
    "    print(\"B\")\n",
    "elif(a>61 and a<70):\n",
    "    print(\"C\")\n",
    "elif(a>51 and a<60):\n",
    "    print(\"D\")\n",
    "elif(a>41 and a<50):\n",
    "    print(\"E\")\n",
    "elif(a>21 and a<30):\n",
    "    print(\"F\")\n",
    "else:\n",
    "    print(\"fail:\")\n",
    "print(\"End program:\")"
   ]
  },
  {
   "cell_type": "code",
   "execution_count": null,
   "metadata": {},
   "outputs": [],
   "source": [
    "a=int(input(\"enter the number:\"))\n",
    "if(a%2==0):\n",
    " print(\"the number is even\")\n",
    "else:\n",
    " print(\"odd\")"
   ]
  },
  {
   "cell_type": "code",
   "execution_count": null,
   "metadata": {},
   "outputs": [],
   "source": [
    "a=int(input(\"enter the number for table:\"))\n",
    "for i in range(1,11,1):\n",
    "    print(a*i)"
   ]
  },
  {
   "cell_type": "code",
   "execution_count": null,
   "metadata": {},
   "outputs": [],
   "source": [
    "for i in range(0,20,2):\n",
    " print(i)\n"
   ]
  },
  {
   "cell_type": "code",
   "execution_count": null,
   "metadata": {},
   "outputs": [],
   "source": [
    "a=int(input(\"enter the number for power up to 10:\"))\n",
    "for i in range(1,11,1):\n",
    "    print(a**i)"
   ]
  },
  {
   "cell_type": "code",
   "execution_count": null,
   "metadata": {},
   "outputs": [],
   "source": [
    "for i in range(21,0,-2):\n",
    "    print(i)"
   ]
  },
  {
   "cell_type": "code",
   "execution_count": null,
   "metadata": {},
   "outputs": [],
   "source": [
    "mylist=list([546,76,987,976,85,\"c\",\"cpp\",\"cpp\",\"java\",\"python\"])\n",
    "print(type(mylist))\n",
    "print(mylist.index(\"java\"))\n",
    "print(mylist[2:8])\n",
    "print(mylist.count(\"cpp\"))\n",
    "for i in mylist:\n",
    "    print(i)\n",
    "print(mylist)\n",
    "mylist=mylist+list([34,76,\"aaa\",43,87,\"rrr\"])\n",
    "print(mylist)\n",
    "print(len(mylist))\n",
    "mylist[2]=\"rimmi\"\n",
    "print(mylist)\n",
    "mylist.append([\"get\",\"data\"])\n",
    "print(mylist)\n",
    "mylist.insert(3,\"bigdata\")\n",
    "print(mylist[1:9:2])\n",
    "\n",
    "\n",
    "\n",
    "\n"
   ]
  },
  {
   "cell_type": "code",
   "execution_count": 11,
   "metadata": {},
   "outputs": [
    {
     "name": "stdout",
     "output_type": "stream",
     "text": [
      "odd\n"
     ]
    }
   ],
   "source": [
    "n=int(input(\"enter the number:\"))\n",
    "def search(a):\n",
    "    if n%2==0:\n",
    "        print(\"even\")\n",
    "    else:\n",
    "        print(\"odd\")\n",
    "search(n)\n",
    "def greater_no(a,b):\n",
    "    if a>b:"
   ]
  }
 ],
 "metadata": {
  "kernelspec": {
   "display_name": "Python 3",
   "language": "python",
   "name": "python3"
  },
  "language_info": {
   "codemirror_mode": {
    "name": "ipython",
    "version": 3
   },
   "file_extension": ".py",
   "mimetype": "text/x-python",
   "name": "python",
   "nbconvert_exporter": "python",
   "pygments_lexer": "ipython3",
   "version": "3.11.4"
  }
 },
 "nbformat": 4,
 "nbformat_minor": 2
}
